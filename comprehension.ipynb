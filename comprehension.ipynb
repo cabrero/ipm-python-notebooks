{
 "cells": [
  {
   "cell_type": "markdown",
   "metadata": {},
   "source": [
    "# List comprehension and more ...\n",
    "\n",
    "La comprensión de listas ([https://en.wikipedia.org/wiki/List_comprehension](List comprehension - wikipedia -)) es una construcción habitual en lenguajes que siguen un paradigma funcional y no tanto en otro tipo de lenguajes.\n",
    "\n",
    "La comprensión de listas permite crear este tipo de estructura de datos de manera más concisa y legible, i.e. con un estilo más declarativo.\n",
    "\n",
    "En python podemos definir una compresión de listas a partir de cualquier objeto iterable. Por ejemplo:"
   ]
  },
  {
   "cell_type": "code",
   "execution_count": 3,
   "metadata": {},
   "outputs": [
    {
     "data": {
      "text/plain": [
       "['Podemos',\n",
       " 'definir',\n",
       " 'una',\n",
       " 'compresión',\n",
       " 'de',\n",
       " 'listas',\n",
       " 'a',\n",
       " 'partir',\n",
       " 'de',\n",
       " 'cualquier',\n",
       " 'objeto',\n",
       " 'iterable']"
      ]
     },
     "execution_count": 3,
     "metadata": {},
     "output_type": "execute_result"
    }
   ],
   "source": [
    "l = \"Podemos definir una compresión de listas a partir de cualquier objeto iterable\".split()\n",
    "l"
   ]
  },
  {
   "cell_type": "markdown",
   "metadata": {},
   "source": [
    "Para crear una compresión necesitamos un iterador: `for word in l`, opcionalmente una condición que deben cumplir los items del iterador: `if len(word) > 3`, y una expresión que construya los elementos de la nueva lista: `word.lower()`"
   ]
  },
  {
   "cell_type": "code",
   "execution_count": 4,
   "metadata": {},
   "outputs": [
    {
     "data": {
      "text/plain": [
       "['podemos',\n",
       " 'definir',\n",
       " 'compresión',\n",
       " 'listas',\n",
       " 'partir',\n",
       " 'cualquier',\n",
       " 'objeto',\n",
       " 'iterable']"
      ]
     },
     "execution_count": 4,
     "metadata": {},
     "output_type": "execute_result"
    }
   ],
   "source": [
    "[ word.lower() for word in l if len(word) > 3 ]"
   ]
  },
  {
   "cell_type": "markdown",
   "metadata": {},
   "source": [
    "Para saber más sobre todas las posibilidades que nos ofrece python a la hora de construir una comprensión de listas , consultar la doc: [https://docs.python.org/3/tutorial/datastructures.html#list-comprehensions](https://docs.python.org/3/tutorial/datastructures.html#list-comprehensions)\n",
    "\n"
   ]
  },
  {
   "cell_type": "markdown",
   "metadata": {},
   "source": [
    "## And more ..\n",
    "\n",
    "Python no sólo nos permite crear compresiones de listas, también nos permite crear compresiones de otros tipos de coleciones, en concreto: conjuntos y diccionarios.\n",
    "\n",
    "La sintáxis es similar. Por ejemplo en el caso de una compresión de conjuntos:"
   ]
  },
  {
   "cell_type": "code",
   "execution_count": 5,
   "metadata": {},
   "outputs": [
    {
     "data": {
      "text/plain": [
       "['Python',\n",
       " 'no',\n",
       " 'sólo',\n",
       " 'nos',\n",
       " 'permite',\n",
       " 'crear',\n",
       " 'compresiones',\n",
       " 'de',\n",
       " 'listas,',\n",
       " 'también',\n",
       " 'nos',\n",
       " 'permite',\n",
       " 'crear',\n",
       " 'compresiones',\n",
       " 'de',\n",
       " 'otros',\n",
       " 'tipos',\n",
       " 'de',\n",
       " 'coleciones,',\n",
       " 'en',\n",
       " 'concreto:',\n",
       " 'conjuntos',\n",
       " 'y',\n",
       " 'diccionarios.',\n",
       " 'La',\n",
       " 'sintáxis',\n",
       " 'es',\n",
       " 'similar.',\n",
       " 'Por',\n",
       " 'ejemplo',\n",
       " 'en',\n",
       " 'el',\n",
       " 'caso',\n",
       " 'de',\n",
       " 'una',\n",
       " 'compresión',\n",
       " 'de',\n",
       " 'conjuntos:']"
      ]
     },
     "execution_count": 5,
     "metadata": {},
     "output_type": "execute_result"
    }
   ],
   "source": [
    "l = \"\"\"Python no sólo nos permite crear compresiones de listas, también nos permite crear compresiones de otros tipos de coleciones, en concreto: conjuntos y diccionarios.\n",
    "La sintáxis es similar. Por ejemplo en el caso de una compresión de conjuntos:\"\"\".split()\n",
    "l"
   ]
  },
  {
   "cell_type": "code",
   "execution_count": 6,
   "metadata": {},
   "outputs": [
    {
     "data": {
      "text/plain": [
       "{'caso',\n",
       " 'coleciones,',\n",
       " 'compresiones',\n",
       " 'compresión',\n",
       " 'concreto:',\n",
       " 'conjuntos',\n",
       " 'conjuntos:',\n",
       " 'crear',\n",
       " 'de',\n",
       " 'diccionarios.',\n",
       " 'ejemplo',\n",
       " 'el',\n",
       " 'en',\n",
       " 'es',\n",
       " 'la',\n",
       " 'listas,',\n",
       " 'no',\n",
       " 'nos',\n",
       " 'otros',\n",
       " 'permite',\n",
       " 'por',\n",
       " 'python',\n",
       " 'similar.',\n",
       " 'sintáxis',\n",
       " 'sólo',\n",
       " 'también',\n",
       " 'tipos',\n",
       " 'una',\n",
       " 'y'}"
      ]
     },
     "execution_count": 6,
     "metadata": {},
     "output_type": "execute_result"
    }
   ],
   "source": [
    "{ word.lower() for word in l }"
   ]
  },
  {
   "cell_type": "markdown",
   "metadata": {},
   "source": [
    "O en el caso de una comprensión de diccionarios:"
   ]
  },
  {
   "cell_type": "code",
   "execution_count": 7,
   "metadata": {},
   "outputs": [
    {
     "data": {
      "text/plain": [
       "{'P': 'Por',\n",
       " 'n': 'nos',\n",
       " 's': 'similar.',\n",
       " 'p': 'permite',\n",
       " 'c': 'conjuntos:',\n",
       " 'd': 'de',\n",
       " 'l': 'listas,',\n",
       " 't': 'tipos',\n",
       " 'o': 'otros',\n",
       " 'e': 'el',\n",
       " 'y': 'y',\n",
       " 'L': 'La',\n",
       " 'u': 'una'}"
      ]
     },
     "execution_count": 7,
     "metadata": {},
     "output_type": "execute_result"
    }
   ],
   "source": [
    "{ word[0]: word for word in l }"
   ]
  },
  {
   "cell_type": "code",
   "execution_count": null,
   "metadata": {},
   "outputs": [],
   "source": []
  }
 ],
 "metadata": {
  "kernelspec": {
   "display_name": "Python 3",
   "language": "python",
   "name": "python3"
  },
  "language_info": {
   "codemirror_mode": {
    "name": "ipython",
    "version": 3
   },
   "file_extension": ".py",
   "mimetype": "text/x-python",
   "name": "python",
   "nbconvert_exporter": "python",
   "pygments_lexer": "ipython3",
   "version": "3.8.6"
  }
 },
 "nbformat": 4,
 "nbformat_minor": 4
}
